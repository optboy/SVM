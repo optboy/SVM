{
 "cells": [
  {
   "cell_type": "markdown",
   "metadata": {},
   "source": [
    "# Mushroom Dataset"
   ]
  },
  {
   "cell_type": "code",
   "execution_count": 12,
   "metadata": {},
   "outputs": [
    {
     "name": "stdout",
     "output_type": "stream",
     "text": [
      "(8124, 23)\n"
     ]
    },
    {
     "data": {
      "text/html": [
       "<div>\n",
       "<style scoped>\n",
       "    .dataframe tbody tr th:only-of-type {\n",
       "        vertical-align: middle;\n",
       "    }\n",
       "\n",
       "    .dataframe tbody tr th {\n",
       "        vertical-align: top;\n",
       "    }\n",
       "\n",
       "    .dataframe thead th {\n",
       "        text-align: right;\n",
       "    }\n",
       "</style>\n",
       "<table border=\"1\" class=\"dataframe\">\n",
       "  <thead>\n",
       "    <tr style=\"text-align: right;\">\n",
       "      <th></th>\n",
       "      <th>class</th>\n",
       "      <th>cap-shape</th>\n",
       "      <th>cap-surface</th>\n",
       "      <th>cap-color</th>\n",
       "      <th>bruises</th>\n",
       "      <th>odor</th>\n",
       "      <th>gill-attachment</th>\n",
       "      <th>gill-spacing</th>\n",
       "      <th>gill-size</th>\n",
       "      <th>gill-color</th>\n",
       "      <th>...</th>\n",
       "      <th>stalk-surface-below-ring</th>\n",
       "      <th>stalk-color-above-ring</th>\n",
       "      <th>stalk-color-below-ring</th>\n",
       "      <th>veil-type</th>\n",
       "      <th>veil-color</th>\n",
       "      <th>ring-number</th>\n",
       "      <th>ring-type</th>\n",
       "      <th>spore-print-color</th>\n",
       "      <th>population</th>\n",
       "      <th>habitat</th>\n",
       "    </tr>\n",
       "  </thead>\n",
       "  <tbody>\n",
       "    <tr>\n",
       "      <th>0</th>\n",
       "      <td>p</td>\n",
       "      <td>x</td>\n",
       "      <td>s</td>\n",
       "      <td>n</td>\n",
       "      <td>t</td>\n",
       "      <td>p</td>\n",
       "      <td>f</td>\n",
       "      <td>c</td>\n",
       "      <td>n</td>\n",
       "      <td>k</td>\n",
       "      <td>...</td>\n",
       "      <td>s</td>\n",
       "      <td>w</td>\n",
       "      <td>w</td>\n",
       "      <td>p</td>\n",
       "      <td>w</td>\n",
       "      <td>o</td>\n",
       "      <td>p</td>\n",
       "      <td>k</td>\n",
       "      <td>s</td>\n",
       "      <td>u</td>\n",
       "    </tr>\n",
       "    <tr>\n",
       "      <th>1</th>\n",
       "      <td>e</td>\n",
       "      <td>x</td>\n",
       "      <td>s</td>\n",
       "      <td>y</td>\n",
       "      <td>t</td>\n",
       "      <td>a</td>\n",
       "      <td>f</td>\n",
       "      <td>c</td>\n",
       "      <td>b</td>\n",
       "      <td>k</td>\n",
       "      <td>...</td>\n",
       "      <td>s</td>\n",
       "      <td>w</td>\n",
       "      <td>w</td>\n",
       "      <td>p</td>\n",
       "      <td>w</td>\n",
       "      <td>o</td>\n",
       "      <td>p</td>\n",
       "      <td>n</td>\n",
       "      <td>n</td>\n",
       "      <td>g</td>\n",
       "    </tr>\n",
       "    <tr>\n",
       "      <th>2</th>\n",
       "      <td>e</td>\n",
       "      <td>b</td>\n",
       "      <td>s</td>\n",
       "      <td>w</td>\n",
       "      <td>t</td>\n",
       "      <td>l</td>\n",
       "      <td>f</td>\n",
       "      <td>c</td>\n",
       "      <td>b</td>\n",
       "      <td>n</td>\n",
       "      <td>...</td>\n",
       "      <td>s</td>\n",
       "      <td>w</td>\n",
       "      <td>w</td>\n",
       "      <td>p</td>\n",
       "      <td>w</td>\n",
       "      <td>o</td>\n",
       "      <td>p</td>\n",
       "      <td>n</td>\n",
       "      <td>n</td>\n",
       "      <td>m</td>\n",
       "    </tr>\n",
       "    <tr>\n",
       "      <th>3</th>\n",
       "      <td>p</td>\n",
       "      <td>x</td>\n",
       "      <td>y</td>\n",
       "      <td>w</td>\n",
       "      <td>t</td>\n",
       "      <td>p</td>\n",
       "      <td>f</td>\n",
       "      <td>c</td>\n",
       "      <td>n</td>\n",
       "      <td>n</td>\n",
       "      <td>...</td>\n",
       "      <td>s</td>\n",
       "      <td>w</td>\n",
       "      <td>w</td>\n",
       "      <td>p</td>\n",
       "      <td>w</td>\n",
       "      <td>o</td>\n",
       "      <td>p</td>\n",
       "      <td>k</td>\n",
       "      <td>s</td>\n",
       "      <td>u</td>\n",
       "    </tr>\n",
       "    <tr>\n",
       "      <th>4</th>\n",
       "      <td>e</td>\n",
       "      <td>x</td>\n",
       "      <td>s</td>\n",
       "      <td>g</td>\n",
       "      <td>f</td>\n",
       "      <td>n</td>\n",
       "      <td>f</td>\n",
       "      <td>w</td>\n",
       "      <td>b</td>\n",
       "      <td>k</td>\n",
       "      <td>...</td>\n",
       "      <td>s</td>\n",
       "      <td>w</td>\n",
       "      <td>w</td>\n",
       "      <td>p</td>\n",
       "      <td>w</td>\n",
       "      <td>o</td>\n",
       "      <td>e</td>\n",
       "      <td>n</td>\n",
       "      <td>a</td>\n",
       "      <td>g</td>\n",
       "    </tr>\n",
       "  </tbody>\n",
       "</table>\n",
       "<p>5 rows × 23 columns</p>\n",
       "</div>"
      ],
      "text/plain": [
       "  class cap-shape cap-surface cap-color bruises odor gill-attachment  \\\n",
       "0     p         x           s         n       t    p               f   \n",
       "1     e         x           s         y       t    a               f   \n",
       "2     e         b           s         w       t    l               f   \n",
       "3     p         x           y         w       t    p               f   \n",
       "4     e         x           s         g       f    n               f   \n",
       "\n",
       "  gill-spacing gill-size gill-color  ... stalk-surface-below-ring  \\\n",
       "0            c         n          k  ...                        s   \n",
       "1            c         b          k  ...                        s   \n",
       "2            c         b          n  ...                        s   \n",
       "3            c         n          n  ...                        s   \n",
       "4            w         b          k  ...                        s   \n",
       "\n",
       "  stalk-color-above-ring stalk-color-below-ring veil-type veil-color  \\\n",
       "0                      w                      w         p          w   \n",
       "1                      w                      w         p          w   \n",
       "2                      w                      w         p          w   \n",
       "3                      w                      w         p          w   \n",
       "4                      w                      w         p          w   \n",
       "\n",
       "  ring-number ring-type spore-print-color population habitat  \n",
       "0           o         p                 k          s       u  \n",
       "1           o         p                 n          n       g  \n",
       "2           o         p                 n          n       m  \n",
       "3           o         p                 k          s       u  \n",
       "4           o         e                 n          a       g  \n",
       "\n",
       "[5 rows x 23 columns]"
      ]
     },
     "execution_count": 12,
     "metadata": {},
     "output_type": "execute_result"
    }
   ],
   "source": [
    "import numpy as np \n",
    "import pandas as pd\n",
    "import matplotlib.pyplot as plt\n",
    "\n",
    "data = pd.read_csv('mushrooms.csv')\n",
    "\n",
    "print(data.shape)\n",
    "\n",
    "data.head()"
   ]
  },
  {
   "cell_type": "code",
   "execution_count": 13,
   "metadata": {},
   "outputs": [],
   "source": [
    "from sklearn.metrics import classification_report, confusion_matrix\n",
    "from sklearn.model_selection import train_test_split\n",
    "from sklearn.tree import DecisionTreeClassifier\n",
    "from sklearn import preprocessing\n",
    "from sklearn import tree\n",
    "\n",
    "from IPython.display import Image\n",
    "import pandas as pd\n",
    "import numpy as np\n",
    "import pydotplus\n",
    "import os\n",
    "\n",
    "data = pd.read_csv('mushrooms.csv')\n",
    "\n",
    "X = data.iloc[:,1:]\n",
    "y = data['class']\n",
    "\n",
    "le = preprocessing.LabelEncoder()\n",
    "\n",
    "trans_data = []\n",
    "for col in range(len(X.columns)):\n",
    "    le.fit(X.iloc[:,col])\n",
    "    transformed_data = le.transform(X.iloc[:,col]) \n",
    "    trans_data.append(transformed_data)\n",
    "\n",
    "trans_data = np.array(trans_data)\n",
    "trans_data = trans_data.transpose()\n",
    "X = trans_data\n",
    "\n",
    "le.fit(y)\n",
    "target_data = le.transform(y) \n",
    "y = target_data\n",
    "\n",
    "X_train, X_test, y_train, y_test = train_test_split(X,y,train_size=0.7)"
   ]
  },
  {
   "cell_type": "code",
   "execution_count": 14,
   "metadata": {},
   "outputs": [
    {
     "data": {
      "text/plain": [
       "array([[2, 0, 3, ..., 2, 5, 0],\n",
       "       [5, 3, 9, ..., 1, 5, 0],\n",
       "       [5, 3, 2, ..., 3, 5, 0],\n",
       "       ...,\n",
       "       [2, 0, 4, ..., 2, 3, 1],\n",
       "       [2, 3, 9, ..., 1, 4, 4],\n",
       "       [5, 2, 9, ..., 3, 3, 1]])"
      ]
     },
     "execution_count": 14,
     "metadata": {},
     "output_type": "execute_result"
    }
   ],
   "source": [
    "X_train"
   ]
  },
  {
   "cell_type": "code",
   "execution_count": 67,
   "metadata": {},
   "outputs": [
    {
     "data": {
      "text/plain": [
       "array([0, 1, 0, ..., 0, 1, 0])"
      ]
     },
     "execution_count": 67,
     "metadata": {},
     "output_type": "execute_result"
    }
   ],
   "source": [
    "y_train"
   ]
  },
  {
   "cell_type": "markdown",
   "metadata": {},
   "source": [
    "# SVM"
   ]
  },
  {
   "cell_type": "code",
   "execution_count": 70,
   "metadata": {},
   "outputs": [],
   "source": [
    "from sklearn.svm import SVC \n",
    "\n",
    "kernel_l = ['linear', 'poly', 'rbf', 'sigmoid']\n",
    "\n",
    "c_l = [1,3,5,7]\n",
    "results = {k:{c:{} for c in c_l} for k in kernel_l}\n",
    "\n",
    "for k in kernel_l:\n",
    "    for c in c_l:\n",
    "        svm_model_linear = SVC(kernel = k, C = c).fit(X_train, y_train) \n",
    "        svm_predictions = svm_model_linear.predict(X_test)\n",
    "\n",
    "        accuracy = svm_model_linear.score(X_test, y_test)\n",
    "        cm = confusion_matrix(y_test, svm_predictions) \n",
    "\n",
    "        results[k][c] = {'accuracy':accuracy, 'cm':cm}"
   ]
  },
  {
   "cell_type": "code",
   "execution_count": 71,
   "metadata": {},
   "outputs": [
    {
     "data": {
      "text/plain": [
       "{'linear': {1: {'accuracy': 0.9663658736669402,\n",
       "   'cm': array([[1219,   19],\n",
       "          [  63, 1137]])},\n",
       "  3: {'accuracy': 0.9782608695652174,\n",
       "   'cm': array([[1219,   19],\n",
       "          [  34, 1166]])},\n",
       "  5: {'accuracy': 0.9840032813781788,\n",
       "   'cm': array([[1215,   23],\n",
       "          [  16, 1184]])},\n",
       "  7: {'accuracy': 0.9868744872846595,\n",
       "   'cm': array([[1215,   23],\n",
       "          [   9, 1191]])}},\n",
       " 'poly': {1: {'accuracy': 0.9967186218211649,\n",
       "   'cm': array([[1238,    0],\n",
       "          [   8, 1192]])},\n",
       "  3: {'accuracy': 0.9995898277276456,\n",
       "   'cm': array([[1238,    0],\n",
       "          [   1, 1199]])},\n",
       "  5: {'accuracy': 1.0,\n",
       "   'cm': array([[1238,    0],\n",
       "          [   0, 1200]])},\n",
       "  7: {'accuracy': 1.0,\n",
       "   'cm': array([[1238,    0],\n",
       "          [   0, 1200]])}},\n",
       " 'rbf': {1: {'accuracy': 0.9868744872846595,\n",
       "   'cm': array([[1238,    0],\n",
       "          [  32, 1168]])},\n",
       "  3: {'accuracy': 0.9958982772764561,\n",
       "   'cm': array([[1238,    0],\n",
       "          [  10, 1190]])},\n",
       "  5: {'accuracy': 0.9979491386382281,\n",
       "   'cm': array([[1238,    0],\n",
       "          [   5, 1195]])},\n",
       "  7: {'accuracy': 0.9979491386382281,\n",
       "   'cm': array([[1238,    0],\n",
       "          [   5, 1195]])}},\n",
       " 'sigmoid': {1: {'accuracy': 0.4835931091058244,\n",
       "   'cm': array([[617, 621],\n",
       "          [638, 562]])},\n",
       "  3: {'accuracy': 0.47990155865463496,\n",
       "   'cm': array([[615, 623],\n",
       "          [645, 555]])},\n",
       "  5: {'accuracy': 0.47949138638228056,\n",
       "   'cm': array([[615, 623],\n",
       "          [646, 554]])},\n",
       "  7: {'accuracy': 0.47908121410992616,\n",
       "   'cm': array([[615, 623],\n",
       "          [647, 553]])}}}"
      ]
     },
     "execution_count": 71,
     "metadata": {},
     "output_type": "execute_result"
    }
   ],
   "source": [
    "results"
   ]
  },
  {
   "cell_type": "markdown",
   "metadata": {},
   "source": [
    "# Compare with Decision Tree"
   ]
  },
  {
   "cell_type": "code",
   "execution_count": 75,
   "metadata": {},
   "outputs": [],
   "source": [
    "from sklearn.tree import DecisionTreeClassifier \n",
    "\n",
    "depth_l = [2,5,7,9]\n",
    "\n",
    "DT_results = {}\n",
    "\n",
    "for d in depth_l:    \n",
    "    dtree_model = DecisionTreeClassifier(max_depth = d).fit(X_train, y_train) \n",
    "    dtree_predictions = dtree_model.predict(X_test) \n",
    "    \n",
    "    cm = confusion_matrix(y_test, dtree_predictions) \n",
    "\n",
    "    DT_results[d] = {'accuracy':accuracy, 'cm':cm}"
   ]
  },
  {
   "cell_type": "code",
   "execution_count": 76,
   "metadata": {},
   "outputs": [
    {
     "data": {
      "text/plain": [
       "{2: {'accuracy': 0.47908121410992616,\n",
       "  'cm': array([[1203,   35],\n",
       "         [ 206,  994]])},\n",
       " 5: {'accuracy': 0.47908121410992616,\n",
       "  'cm': array([[1204,   34],\n",
       "         [  19, 1181]])},\n",
       " 7: {'accuracy': 0.47908121410992616,\n",
       "  'cm': array([[1238,    0],\n",
       "         [   0, 1200]])},\n",
       " 9: {'accuracy': 0.47908121410992616,\n",
       "  'cm': array([[1238,    0],\n",
       "         [   0, 1200]])}}"
      ]
     },
     "execution_count": 76,
     "metadata": {},
     "output_type": "execute_result"
    }
   ],
   "source": [
    "DT_results"
   ]
  }
 ],
 "metadata": {
  "kernelspec": {
   "display_name": "Python 3",
   "language": "python",
   "name": "python3"
  },
  "language_info": {
   "codemirror_mode": {
    "name": "ipython",
    "version": 3
   },
   "file_extension": ".py",
   "mimetype": "text/x-python",
   "name": "python",
   "nbconvert_exporter": "python",
   "pygments_lexer": "ipython3",
   "version": "3.7.6"
  }
 },
 "nbformat": 4,
 "nbformat_minor": 4
}
